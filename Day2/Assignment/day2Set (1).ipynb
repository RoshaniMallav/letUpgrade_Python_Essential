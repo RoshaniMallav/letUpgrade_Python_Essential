{
  "nbformat": 4,
  "nbformat_minor": 0,
  "metadata": {
    "colab": {
      "name": "day2Set.ipynb",
      "provenance": []
    },
    "kernelspec": {
      "name": "python3",
      "display_name": "Python 3"
    }
  },
  "cells": [
    {
      "cell_type": "code",
      "metadata": {
        "id": "ThairvPczfhR",
        "colab_type": "code",
        "colab": {
          "base_uri": "https://localhost:8080/",
          "height": 170
        },
        "outputId": "70cc2748-4d8c-4f45-c72f-256f000d55ed"
      },
      "source": [
        "st = {\"google\", \"yahoo\", \"bing\",\"internet\"}\n",
        "print(st)\n",
        "##1. Accessing Item\n",
        "for x in st:\n",
        "    print(x)\n",
        "\n",
        "##2.add Item\n",
        "st.add(\"orange\")\n",
        "\n",
        "print(st)\n",
        "\n",
        "##3Upadet\n",
        "st.update([\"microsoft\", \"intel\", \"apple\"])\n",
        "print(st)\n",
        "\n",
        "##4 Remove item\n",
        "st.remove(\"internet\")\n",
        "print(st)\n",
        "##5 Empty set\n",
        "st.clear()\n",
        "\n",
        "print(st)"
      ],
      "execution_count": null,
      "outputs": [
        {
          "output_type": "stream",
          "text": [
            "{'google', 'internet', 'yahoo', 'bing'}\n",
            "google\n",
            "internet\n",
            "yahoo\n",
            "bing\n",
            "{'yahoo', 'internet', 'orange', 'bing', 'google'}\n",
            "{'yahoo', 'microsoft', 'internet', 'intel', 'orange', 'bing', 'google', 'apple'}\n",
            "{'yahoo', 'microsoft', 'intel', 'orange', 'bing', 'google', 'apple'}\n",
            "set()\n"
          ],
          "name": "stdout"
        }
      ]
    }
  ]
}