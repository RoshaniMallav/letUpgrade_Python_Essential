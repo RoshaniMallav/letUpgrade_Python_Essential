{
  "nbformat": 4,
  "nbformat_minor": 0,
  "metadata": {
    "colab": {
      "name": "Day2 String.ipynb",
      "provenance": []
    },
    "kernelspec": {
      "name": "python3",
      "display_name": "Python 3"
    }
  },
  "cells": [
    {
      "cell_type": "code",
      "metadata": {
        "id": "vbA3LSbD_NVt",
        "colab_type": "code",
        "colab": {
          "base_uri": "https://localhost:8080/",
          "height": 136
        },
        "outputId": "7856e0ba-b39c-44dd-84c8-6643cce2792c"
      },
      "source": [
        "var1 = 'Roshani'\n",
        "var2 = \"mallav\"\n",
        "#1.accessing value\n",
        "print (\"var1[0]: \", var1[0])\n",
        "print (\"var2[1:5]: \", var2[1:5])\n",
        "#2.Upadating string\n",
        "print(\"Updated String :- \", var1[:6] + 'Python')\n",
        "#3 print lenght\n",
        "print(len(var1))\n",
        "#4\n",
        "print(var2.strip()) \n",
        "#5\n",
        "print(var1.lower())\n",
        "#6\n",
        "print(var1.replace(\"S\", \"K\"))"
      ],
      "execution_count": null,
      "outputs": [
        {
          "output_type": "stream",
          "text": [
            "var1[0]:  R\n",
            "var2[1:5]:  alla\n",
            "Updated String :-  RoshanPython\n",
            "7\n",
            "mallav\n",
            "roshani\n",
            "Roshani\n"
          ],
          "name": "stdout"
        }
      ]
    }
  ]
}