{
  "nbformat": 4,
  "nbformat_minor": 0,
  "metadata": {
    "colab": {
      "name": "day2Dictionary.ipynb",
      "provenance": []
    },
    "kernelspec": {
      "name": "python3",
      "display_name": "Python 3"
    }
  },
  "cells": [
    {
      "cell_type": "code",
      "metadata": {
        "id": "sUfwwTrsv0n1",
        "colab_type": "code",
        "colab": {
          "base_uri": "https://localhost:8080/",
          "height": 221
        },
        "outputId": "5634f61c-1717-49e4-e3fa-7d55f35aef2d"
      },
      "source": [
        "mydict = {\n",
        "  \"name\": \"Roshani\",\n",
        "  \"mail\": \"mallavroshani78@gmail.com\",\n",
        "  \"year\":1999 \n",
        "}\n",
        "print(mydict)\n",
        "\n",
        "##1 Accessing item\n",
        "x = mydict[\"mail\"]\n",
        "print(x)\n",
        "\n",
        "##2 Updating Value\n",
        "\n",
        "mydict[\"year\"] = 2018\n",
        "print(mydict)\n",
        "\n",
        "##3 print all element 1by 1\n",
        "\n",
        "for x in mydict:\n",
        "  print(mydict[x])\n",
        "\n",
        "  ##4 checking key present or not\n",
        "  if \"mail\" in mydict:\n",
        "      print (\"Yes, 'mail ' is one of the keys in the mydict dictionary\")\n",
        "\n",
        "      ##5 Leght of dictonary\n",
        "      print(len(mydict))\n",
        "\n",
        "\n"
      ],
      "execution_count": null,
      "outputs": [
        {
          "output_type": "stream",
          "text": [
            "{'name': 'Roshani', 'mail': 'mallavroshani78@gmail.com', 'year': 1999}\n",
            "mallavroshani78@gmail.com\n",
            "{'name': 'Roshani', 'mail': 'mallavroshani78@gmail.com', 'year': 2018}\n",
            "Roshani\n",
            "Yes, 'mail ' is one of the keys in the mydict dictionary\n",
            "3\n",
            "mallavroshani78@gmail.com\n",
            "Yes, 'mail ' is one of the keys in the mydict dictionary\n",
            "3\n",
            "2018\n",
            "Yes, 'mail ' is one of the keys in the mydict dictionary\n",
            "3\n"
          ],
          "name": "stdout"
        }
      ]
    }
  ]
}