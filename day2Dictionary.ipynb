{
  "nbformat": 4,
  "nbformat_minor": 0,
  "metadata": {
    "colab": {
      "name": "day2Dictionary.ipynb",
      "provenance": [],
      "authorship_tag": "ABX9TyP1dIgYIA4TXV6Yzh+3i8SY",
      "include_colab_link": true
    },
    "kernelspec": {
      "name": "python3",
      "display_name": "Python 3"
    }
  },
  "cells": [
    {
      "cell_type": "markdown",
      "metadata": {
        "id": "view-in-github",
        "colab_type": "text"
      },
      "source": [
        "<a href=\"https://colab.research.google.com/github/RoshaniMallav/letUpgrade_Python_Essential/blob/master/day2Dictionary.ipynb\" target=\"_parent\"><img src=\"https://colab.research.google.com/assets/colab-badge.svg\" alt=\"Open In Colab\"/></a>"
      ]
    },
    {
      "cell_type": "code",
      "metadata": {
        "id": "sUfwwTrsv0n1",
        "colab_type": "code",
        "colab": {
          "base_uri": "https://localhost:8080/",
          "height": 221
        },
        "outputId": "5634f61c-1717-49e4-e3fa-7d55f35aef2d"
      },
      "source": [
        "mydict = {\n",
        "  \"name\": \"Roshani\",\n",
        "  \"mail\": \"mallavroshani78@gmail.com\",\n",
        "  \"year\":1999 \n",
        "}\n",
        "print(mydict)\n",
        "\n",
        "##1 Accessing item\n",
        "x = mydict[\"mail\"]\n",
        "print(x)\n",
        "\n",
        "##2 Updating Value\n",
        "\n",
        "mydict[\"year\"] = 2018\n",
        "print(mydict)\n",
        "\n",
        "##3 print all element 1by 1\n",
        "\n",
        "for x in mydict:\n",
        "  print(mydict[x])\n",
        "\n",
        "  ##4 checking key present or not\n",
        "  if \"mail\" in mydict:\n",
        "      print (\"Yes, 'mail ' is one of the keys in the mydict dictionary\")\n",
        "\n",
        "      ##5 Leght of dictonary\n",
        "      print(len(mydict))\n",
        "\n",
        "\n"
      ],
      "execution_count": 14,
      "outputs": [
        {
          "output_type": "stream",
          "text": [
            "{'name': 'Roshani', 'mail': 'mallavroshani78@gmail.com', 'year': 1999}\n",
            "mallavroshani78@gmail.com\n",
            "{'name': 'Roshani', 'mail': 'mallavroshani78@gmail.com', 'year': 2018}\n",
            "Roshani\n",
            "Yes, 'mail ' is one of the keys in the mydict dictionary\n",
            "3\n",
            "mallavroshani78@gmail.com\n",
            "Yes, 'mail ' is one of the keys in the mydict dictionary\n",
            "3\n",
            "2018\n",
            "Yes, 'mail ' is one of the keys in the mydict dictionary\n",
            "3\n"
          ],
          "name": "stdout"
        }
      ]
    }
  ]
}