{
  "nbformat": 4,
  "nbformat_minor": 0,
  "metadata": {
    "colab": {
      "name": "Genrator.ipynb",
      "provenance": []
    },
    "kernelspec": {
      "name": "python3",
      "display_name": "Python 3"
    }
  },
  "cells": [
    {
      "cell_type": "code",
      "metadata": {
        "id": "yhXNo4cQbZ8a",
        "colab_type": "code",
        "colab": {}
      },
      "source": [
        "def getClose_by_armstrong():\n",
        "    for num in range(1, 1000):\n",
        "\n",
        "  \n",
        "      order = len(str(num))\n",
        "    \n",
        "\n",
        "      sum = 0\n",
        "\n",
        "      temp = num\n",
        "      while temp > 0:\n",
        "          digit = temp % 10\n",
        "          sum += digit ** order\n",
        "          temp //= 10\n",
        "\n",
        "      if num == sum:\n",
        "          yield num\n",
        "          "
      ],
      "execution_count": 13,
      "outputs": []
    },
    {
      "cell_type": "code",
      "metadata": {
        "id": "D_-kbsyMhDLj",
        "colab_type": "code",
        "colab": {
          "base_uri": "https://localhost:8080/",
          "height": 34
        },
        "outputId": "b448349f-b373-48ce-a9ad-8a63eab1e583"
      },
      "source": [
        "print(list (getClose_by_armstrong()))"
      ],
      "execution_count": 15,
      "outputs": [
        {
          "output_type": "stream",
          "text": [
            "[1, 2, 3, 4, 5, 6, 7, 8, 9, 153, 370, 371, 407]\n"
          ],
          "name": "stdout"
        }
      ]
    }
  ]
}