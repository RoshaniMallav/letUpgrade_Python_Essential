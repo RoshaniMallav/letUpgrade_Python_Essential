{
  "nbformat": 4,
  "nbformat_minor": 0,
  "metadata": {
    "colab": {
      "name": "Unittest.ipynb",
      "provenance": []
    },
    "kernelspec": {
      "name": "python3",
      "display_name": "Python 3"
    }
  },
  "cells": [
    {
      "cell_type": "code",
      "metadata": {
        "id": "uRf2QVRYitd-",
        "colab_type": "code",
        "colab": {
          "base_uri": "https://localhost:8080/",
          "height": 411
        },
        "outputId": "b773c38f-639f-4945-e785-ab6b8e70652f"
      },
      "source": [
        "!pip install pylint\n"
      ],
      "execution_count": 1,
      "outputs": [
        {
          "output_type": "stream",
          "text": [
            "Collecting pylint\n",
            "\u001b[?25l  Downloading https://files.pythonhosted.org/packages/fb/13/519c1264a134beab2be4bac8dd3e64948980a5ca7833b31cf0255b21f20a/pylint-2.6.0-py3-none-any.whl (325kB)\n",
            "\u001b[K     |████████████████████████████████| 327kB 3.2MB/s \n",
            "\u001b[?25hCollecting isort<6,>=4.2.5\n",
            "\u001b[?25l  Downloading https://files.pythonhosted.org/packages/d1/25/7ed95ccb07d3ce52598f5a57d002da6a18074ea8749991b10936cc20e539/isort-5.5.2-py3-none-any.whl (95kB)\n",
            "\u001b[K     |████████████████████████████████| 102kB 4.7MB/s \n",
            "\u001b[?25hCollecting mccabe<0.7,>=0.6\n",
            "  Downloading https://files.pythonhosted.org/packages/87/89/479dc97e18549e21354893e4ee4ef36db1d237534982482c3681ee6e7b57/mccabe-0.6.1-py2.py3-none-any.whl\n",
            "Requirement already satisfied: toml>=0.7.1 in /usr/local/lib/python3.6/dist-packages (from pylint) (0.10.1)\n",
            "Collecting astroid<=2.5,>=2.4.0\n",
            "\u001b[?25l  Downloading https://files.pythonhosted.org/packages/24/a8/5133f51967fb21e46ee50831c3f5dda49e976b7f915408d670b1603d41d6/astroid-2.4.2-py3-none-any.whl (213kB)\n",
            "\u001b[K     |████████████████████████████████| 215kB 6.8MB/s \n",
            "\u001b[?25hCollecting typed-ast<1.5,>=1.4.0; implementation_name == \"cpython\" and python_version < \"3.8\"\n",
            "\u001b[?25l  Downloading https://files.pythonhosted.org/packages/90/ed/5459080d95eb87a02fe860d447197be63b6e2b5e9ff73c2b0a85622994f4/typed_ast-1.4.1-cp36-cp36m-manylinux1_x86_64.whl (737kB)\n",
            "\u001b[K     |████████████████████████████████| 747kB 8.4MB/s \n",
            "\u001b[?25hRequirement already satisfied: six~=1.12 in /usr/local/lib/python3.6/dist-packages (from astroid<=2.5,>=2.4.0->pylint) (1.15.0)\n",
            "Collecting lazy-object-proxy==1.4.*\n",
            "\u001b[?25l  Downloading https://files.pythonhosted.org/packages/0b/dd/b1e3407e9e6913cf178e506cd0dee818e58694d9a5cd1984e3f6a8b9a10f/lazy_object_proxy-1.4.3-cp36-cp36m-manylinux1_x86_64.whl (55kB)\n",
            "\u001b[K     |████████████████████████████████| 61kB 6.9MB/s \n",
            "\u001b[?25hRequirement already satisfied: wrapt~=1.11 in /usr/local/lib/python3.6/dist-packages (from astroid<=2.5,>=2.4.0->pylint) (1.12.1)\n",
            "Installing collected packages: isort, mccabe, typed-ast, lazy-object-proxy, astroid, pylint\n",
            "Successfully installed astroid-2.4.2 isort-5.5.2 lazy-object-proxy-1.4.3 mccabe-0.6.1 pylint-2.6.0 typed-ast-1.4.1\n"
          ],
          "name": "stdout"
        }
      ]
    },
    {
      "cell_type": "code",
      "metadata": {
        "id": "mtlaYUCGjV_4",
        "colab_type": "code",
        "colab": {
          "base_uri": "https://localhost:8080/",
          "height": 34
        },
        "outputId": "2a27576a-cfa7-4fca-daa5-c98b7fa2b473"
      },
      "source": [
        "\n",
        "%%writefile some_code.py\n",
        "'''\n",
        "It is a program of prime number\n",
        "'''\n",
        "\n",
        "def prime_fun():\n",
        "    '''\n",
        "    It is a example of unit testing\n",
        "    '''\n",
        "    for i in range(1 , 201):\n",
        "        if i==2 or i==3 or i==5 or i==7:\n",
        "            print(\"Number is pime:\",i)\n",
        "        elif i%2 > 0 and i%3 > 0 and i%5 > 0 and i%7 > 0 :\n",
        "            print(\"Number is prime:\" , i)\n",
        "        else :\n",
        "            print(\"Number is not prime:\" , i)\n"
      ],
      "execution_count": 21,
      "outputs": [
        {
          "output_type": "stream",
          "text": [
            "Overwriting some_code.py\n"
          ],
          "name": "stdout"
        }
      ]
    },
    {
      "cell_type": "code",
      "metadata": {
        "id": "yVsg6n6RkCEh",
        "colab_type": "code",
        "colab": {
          "base_uri": "https://localhost:8080/",
          "height": 136
        },
        "outputId": "d9e96a8c-05f5-4389-da3f-7d805579c816"
      },
      "source": [
        "! pylint \"some_code.py\""
      ],
      "execution_count": 26,
      "outputs": [
        {
          "output_type": "stream",
          "text": [
            "************* Module some_code\n",
            "some_code.py:15:0: C0304: Final newline missing (missing-final-newline)\n",
            "some_code.py:10:11: R1714: Consider merging these comparisons with \"in\" to 'i in (2, 3, 5, 7)' (consider-using-in)\n",
            "\n",
            "------------------------------------------------------------------\n",
            "Your code has been rated at 7.14/10 (previous run: 7.14/10, +0.00)\n",
            "\n"
          ],
          "name": "stdout"
        }
      ]
    },
    {
      "cell_type": "code",
      "metadata": {
        "id": "7BfFn2eMolPs",
        "colab_type": "code",
        "colab": {
          "base_uri": "https://localhost:8080/",
          "height": 34
        },
        "outputId": "4ccf3f26-47cc-4d14-9ce0-d538d7aca5c4"
      },
      "source": [
        "\n",
        "%%writefile prime.py\n",
        "def prime_fun():\n",
        "   lst=list (range(10))\n",
        "   for i in lst:\n",
        "       if i==2 or i==3 or i==5 or i==7:\n",
        "          print(\"Number is pime\",i)\n",
        "       elif i%2 >0 and i%3>0 and i%5>0 and i%7>0 :\n",
        "          print(\"Number is prime\",i)\n",
        "       else :\n",
        "          print(\"Number is not prime\",i)\n",
        "\n"
      ],
      "execution_count": 59,
      "outputs": [
        {
          "output_type": "stream",
          "text": [
            "Overwriting prime.py\n"
          ],
          "name": "stdout"
        }
      ]
    },
    {
      "cell_type": "code",
      "metadata": {
        "id": "AX4ZDkfcswMl",
        "colab_type": "code",
        "colab": {}
      },
      "source": [
        ""
      ],
      "execution_count": 54,
      "outputs": []
    },
    {
      "cell_type": "code",
      "metadata": {
        "id": "kxrCcDPIswqp",
        "colab_type": "code",
        "colab": {
          "base_uri": "https://localhost:8080/",
          "height": 1000
        },
        "outputId": "6147c976-152e-4c21-f079-51d2cdd754ff"
      },
      "source": [
        "import unittest\n",
        "import prime\n",
        "prime.prime_fun()"
      ],
      "execution_count": 61,
      "outputs": [
        {
          "output_type": "stream",
          "text": [
            "Number is prime 1\n",
            "Number is pime 2\n",
            "Number is pime 3\n",
            "Number is not prime 4\n",
            "Number is pime 5\n",
            "Number is not prime 6\n",
            "Number is pime 7\n",
            "Number is not prime 8\n",
            "Number is not prime 9\n",
            "Number is not prime 10\n",
            "Number is prime 11\n",
            "Number is not prime 12\n",
            "Number is prime 13\n",
            "Number is not prime 14\n",
            "Number is not prime 15\n",
            "Number is not prime 16\n",
            "Number is prime 17\n",
            "Number is not prime 18\n",
            "Number is prime 19\n",
            "Number is not prime 20\n",
            "Number is not prime 21\n",
            "Number is not prime 22\n",
            "Number is prime 23\n",
            "Number is not prime 24\n",
            "Number is not prime 25\n",
            "Number is not prime 26\n",
            "Number is not prime 27\n",
            "Number is not prime 28\n",
            "Number is prime 29\n",
            "Number is not prime 30\n",
            "Number is prime 31\n",
            "Number is not prime 32\n",
            "Number is not prime 33\n",
            "Number is not prime 34\n",
            "Number is not prime 35\n",
            "Number is not prime 36\n",
            "Number is prime 37\n",
            "Number is not prime 38\n",
            "Number is not prime 39\n",
            "Number is not prime 40\n",
            "Number is prime 41\n",
            "Number is not prime 42\n",
            "Number is prime 43\n",
            "Number is not prime 44\n",
            "Number is not prime 45\n",
            "Number is not prime 46\n",
            "Number is prime 47\n",
            "Number is not prime 48\n",
            "Number is not prime 49\n",
            "Number is not prime 50\n",
            "Number is not prime 51\n",
            "Number is not prime 52\n",
            "Number is prime 53\n",
            "Number is not prime 54\n",
            "Number is not prime 55\n",
            "Number is not prime 56\n",
            "Number is not prime 57\n",
            "Number is not prime 58\n",
            "Number is prime 59\n",
            "Number is not prime 60\n",
            "Number is prime 61\n",
            "Number is not prime 62\n",
            "Number is not prime 63\n",
            "Number is not prime 64\n",
            "Number is not prime 65\n",
            "Number is not prime 66\n",
            "Number is prime 67\n",
            "Number is not prime 68\n",
            "Number is not prime 69\n",
            "Number is not prime 70\n",
            "Number is prime 71\n",
            "Number is not prime 72\n",
            "Number is prime 73\n",
            "Number is not prime 74\n",
            "Number is not prime 75\n",
            "Number is not prime 76\n",
            "Number is not prime 77\n",
            "Number is not prime 78\n",
            "Number is prime 79\n",
            "Number is not prime 80\n",
            "Number is not prime 81\n",
            "Number is not prime 82\n",
            "Number is prime 83\n",
            "Number is not prime 84\n",
            "Number is not prime 85\n",
            "Number is not prime 86\n",
            "Number is not prime 87\n",
            "Number is not prime 88\n",
            "Number is prime 89\n",
            "Number is not prime 90\n",
            "Number is not prime 91\n",
            "Number is not prime 92\n",
            "Number is not prime 93\n",
            "Number is not prime 94\n",
            "Number is not prime 95\n",
            "Number is not prime 96\n",
            "Number is prime 97\n",
            "Number is not prime 98\n",
            "Number is not prime 99\n",
            "Number is not prime 100\n",
            "Number is prime 101\n",
            "Number is not prime 102\n",
            "Number is prime 103\n",
            "Number is not prime 104\n",
            "Number is not prime 105\n",
            "Number is not prime 106\n",
            "Number is prime 107\n",
            "Number is not prime 108\n",
            "Number is prime 109\n",
            "Number is not prime 110\n",
            "Number is not prime 111\n",
            "Number is not prime 112\n",
            "Number is prime 113\n",
            "Number is not prime 114\n",
            "Number is not prime 115\n",
            "Number is not prime 116\n",
            "Number is not prime 117\n",
            "Number is not prime 118\n",
            "Number is not prime 119\n",
            "Number is not prime 120\n",
            "Number is prime 121\n",
            "Number is not prime 122\n",
            "Number is not prime 123\n",
            "Number is not prime 124\n",
            "Number is not prime 125\n",
            "Number is not prime 126\n",
            "Number is prime 127\n",
            "Number is not prime 128\n",
            "Number is not prime 129\n",
            "Number is not prime 130\n",
            "Number is prime 131\n",
            "Number is not prime 132\n",
            "Number is not prime 133\n",
            "Number is not prime 134\n",
            "Number is not prime 135\n",
            "Number is not prime 136\n",
            "Number is prime 137\n",
            "Number is not prime 138\n",
            "Number is prime 139\n",
            "Number is not prime 140\n",
            "Number is not prime 141\n",
            "Number is not prime 142\n",
            "Number is prime 143\n",
            "Number is not prime 144\n",
            "Number is not prime 145\n",
            "Number is not prime 146\n",
            "Number is not prime 147\n",
            "Number is not prime 148\n",
            "Number is prime 149\n",
            "Number is not prime 150\n",
            "Number is prime 151\n",
            "Number is not prime 152\n",
            "Number is not prime 153\n",
            "Number is not prime 154\n",
            "Number is not prime 155\n",
            "Number is not prime 156\n",
            "Number is prime 157\n",
            "Number is not prime 158\n",
            "Number is not prime 159\n",
            "Number is not prime 160\n",
            "Number is not prime 161\n",
            "Number is not prime 162\n",
            "Number is prime 163\n",
            "Number is not prime 164\n",
            "Number is not prime 165\n",
            "Number is not prime 166\n",
            "Number is prime 167\n",
            "Number is not prime 168\n",
            "Number is prime 169\n",
            "Number is not prime 170\n",
            "Number is not prime 171\n",
            "Number is not prime 172\n",
            "Number is prime 173\n",
            "Number is not prime 174\n",
            "Number is not prime 175\n",
            "Number is not prime 176\n",
            "Number is not prime 177\n",
            "Number is not prime 178\n",
            "Number is prime 179\n",
            "Number is not prime 180\n",
            "Number is prime 181\n",
            "Number is not prime 182\n",
            "Number is not prime 183\n",
            "Number is not prime 184\n",
            "Number is not prime 185\n",
            "Number is not prime 186\n",
            "Number is prime 187\n",
            "Number is not prime 188\n",
            "Number is not prime 189\n",
            "Number is not prime 190\n",
            "Number is prime 191\n",
            "Number is not prime 192\n",
            "Number is prime 193\n",
            "Number is not prime 194\n",
            "Number is not prime 195\n",
            "Number is not prime 196\n",
            "Number is prime 197\n",
            "Number is not prime 198\n",
            "Number is prime 199\n",
            "Number is not prime 200\n"
          ],
          "name": "stdout"
        }
      ]
    },
    {
      "cell_type": "code",
      "metadata": {
        "id": "lJLVs9Pxu6Kv",
        "colab_type": "code",
        "colab": {
          "base_uri": "https://localhost:8080/",
          "height": 34
        },
        "outputId": "3fe52bc9-0c21-4058-ab09-8a29ab99ef20"
      },
      "source": [
        "!prime.py"
      ],
      "execution_count": 62,
      "outputs": [
        {
          "output_type": "stream",
          "text": [
            "/bin/bash: prime.py: command not found\n"
          ],
          "name": "stdout"
        }
      ]
    }
  ]
}