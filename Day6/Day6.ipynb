{
  "nbformat": 4,
  "nbformat_minor": 0,
  "metadata": {
    "colab": {
      "name": "Day6.ipynb",
      "provenance": []
    },
    "kernelspec": {
      "name": "python3",
      "display_name": "Python 3"
    }
  },
  "cells": [
    {
      "cell_type": "code",
      "metadata": {
        "id": "0durOAoZ3XwN",
        "colab_type": "code",
        "colab": {
          "base_uri": "https://localhost:8080/",
          "height": 170
        },
        "outputId": "36067457-d06e-4c57-b5e4-e39bdf5de8e9"
      },
      "source": [
        "#### Quetion 1\n",
        "class Bank_Account: \n",
        "    def __init__(self): \n",
        "        self.balance=0\n",
        "        print(\"Hello!!! Welcome to the Deposit & Withdrawal Machine\") \n",
        "  \n",
        "    def deposit(self): \n",
        "        amount=float(input(\"Enter amount to be Deposited: \")) \n",
        "        self.balance += amount \n",
        "        print(\"\\n Amount Deposited:\",amount) \n",
        "  \n",
        "    def withdraw(self): \n",
        "        amount = float(input(\"Enter amount to be Withdrawn: \")) \n",
        "        if self.balance>=amount: \n",
        "            self.balance-=amount \n",
        "            print(\"\\n You Withdrew:\", amount) \n",
        "        else: \n",
        "            print(\"\\n Insufficient balance  \") \n",
        "  \n",
        "    def display(self): \n",
        "        print(\"\\n Net Available Balance=\",self.balance) \n",
        "\n",
        "s = Bank_Account() \n",
        "s.deposit() \n",
        "s.withdraw() \n",
        "s.display()"
      ],
      "execution_count": 2,
      "outputs": [
        {
          "output_type": "stream",
          "text": [
            "Hello!!! Welcome to the Deposit & Withdrawal Machine\n",
            "Enter amount to be Deposited: 2000\n",
            "\n",
            " Amount Deposited: 2000.0\n",
            "Enter amount to be Withdrawn: 210000\n",
            "\n",
            " Insufficient balance  \n",
            "\n",
            " Net Available Balance= 2000.0\n"
          ],
          "name": "stdout"
        }
      ]
    },
    {
      "cell_type": "code",
      "metadata": {
        "id": "R0y8KgwS8hVN",
        "colab_type": "code",
        "colab": {
          "base_uri": "https://localhost:8080/",
          "height": 68
        },
        "outputId": "a615a70c-2767-4aaf-c846-5d02a9658348"
      },
      "source": [
        "#####Quetion 2\n",
        "\n",
        "import math \n",
        "pi = math.pi\n",
        "\n",
        "class Cone: \n",
        "    def __init__(self,Radius,Height): \n",
        "        self.Radius=Radius\n",
        "        self.Height=Height\n",
        "    def volume(self):\n",
        "        print(\"Volume of cone is:\",(1 / 3) * pi * self.Radius * self.Radius *self.Height ) \n",
        "        \n",
        "  \n",
        "    def Surface_Area(self): \n",
        "        side=float(input(\"Enter side height: \")) \n",
        "\n",
        "        \n",
        "        print(\"Surface Area of cone is:\",pi * self.Radius * side + pi * self.Radius * self.Radius ) \n",
        "\n",
        "                \n",
        "c = Cone(5,12) \n",
        "c.volume()\n",
        "c.Surface_Area()\n",
        "    "
      ],
      "execution_count": 12,
      "outputs": [
        {
          "output_type": "stream",
          "text": [
            "Volume of cone is: 314.15926535897927\n",
            "Enter side height: 13\n",
            "Surface Area of cone is: 282.7433388230814\n"
          ],
          "name": "stdout"
        }
      ]
    }
  ]
}