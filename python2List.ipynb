{
  "nbformat": 4,
  "nbformat_minor": 0,
  "metadata": {
    "colab": {
      "name": "python2List.ipynb",
      "provenance": [],
      "collapsed_sections": [],
      "authorship_tag": "ABX9TyMpB3kMjNQUpYTSQBfpta/0",
      "include_colab_link": true
    },
    "kernelspec": {
      "name": "python3",
      "display_name": "Python 3"
    }
  },
  "cells": [
    {
      "cell_type": "markdown",
      "metadata": {
        "id": "view-in-github",
        "colab_type": "text"
      },
      "source": [
        "<a href=\"https://colab.research.google.com/github/RoshaniMallav/letUpgrade_Python_Essential/blob/master/python2List.ipynb\" target=\"_parent\"><img src=\"https://colab.research.google.com/assets/colab-badge.svg\" alt=\"Open In Colab\"/></a>"
      ]
    },
    {
      "cell_type": "code",
      "metadata": {
        "id": "DpROM7Cmw0Kt",
        "colab_type": "code",
        "colab": {
          "base_uri": "https://localhost:8080/",
          "height": 255
        },
        "outputId": "cf28548d-3bc9-44b3-db00-4023ce0d0093"
      },
      "source": [
        "\n",
        "\n",
        "\n",
        "list = ['Roshani', 'Mallav', 1999, 20000];\n",
        "\n",
        "##   1.updating the list\n",
        "\n",
        "print (\"Value available at index 2 : \")\n",
        "print (list[2])\n",
        "list[2] = 22222;\n",
        "print (\"New value available at index 2 : \")\n",
        "print (list[2])\n",
        "\n",
        "## 2.deleting element\n",
        "\n",
        "print (list)\n",
        "del (list[2]);\n",
        "print (\"After deleting value at index 2 : \")\n",
        "print (list)\n",
        "\n",
        "## 3.Checking lenght of the list\n",
        "print(\"The lenght of the list is:\")\n",
        "print(len(list))\n",
        "\n",
        "##4.Append operation\n",
        "\n",
        "print(list)\n",
        "print(\"After appending the list is:\")\n",
        "list.append(\"orange\")\n",
        "print(list)\n",
        "\n",
        "## 5.Copy\n",
        "print(\"Copy list from onelist to another:\")\n",
        "mylist=[1,2,3,'letupgrade']\n",
        "mylist = list.copy()\n",
        "print(mylist)\n",
        "\n",
        "\n"
      ],
      "execution_count": null,
      "outputs": [
        {
          "output_type": "stream",
          "text": [
            "Value available at index 2 : \n",
            "1999\n",
            "New value available at index 2 : \n",
            "22222\n",
            "['Roshani', 'Mallav', 22222, 20000]\n",
            "After deleting value at index 2 : \n",
            "['Roshani', 'Mallav', 20000]\n",
            "The lenght of the list is:\n",
            "3\n",
            "['Roshani', 'Mallav', 20000]\n",
            "After appending the list is:\n",
            "['Roshani', 'Mallav', 20000, 'orange']\n",
            "Copy list from onelist to another:\n",
            "['Roshani', 'Mallav', 20000, 'orange']\n"
          ],
          "name": "stdout"
        }
      ]
    }
  ]
}