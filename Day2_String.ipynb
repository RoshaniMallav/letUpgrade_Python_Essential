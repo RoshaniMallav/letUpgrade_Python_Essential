{
  "nbformat": 4,
  "nbformat_minor": 0,
  "metadata": {
    "colab": {
      "name": "Day2 String.ipynb",
      "provenance": [],
      "authorship_tag": "ABX9TyPIuRQFmDkAiGySaSdxQ6yh",
      "include_colab_link": true
    },
    "kernelspec": {
      "name": "python3",
      "display_name": "Python 3"
    }
  },
  "cells": [
    {
      "cell_type": "markdown",
      "metadata": {
        "id": "view-in-github",
        "colab_type": "text"
      },
      "source": [
        "<a href=\"https://colab.research.google.com/github/RoshaniMallav/letUpgrade_Python_Essential/blob/master/Day2_String.ipynb\" target=\"_parent\"><img src=\"https://colab.research.google.com/assets/colab-badge.svg\" alt=\"Open In Colab\"/></a>"
      ]
    },
    {
      "cell_type": "code",
      "metadata": {
        "id": "vbA3LSbD_NVt",
        "colab_type": "code",
        "colab": {
          "base_uri": "https://localhost:8080/",
          "height": 136
        },
        "outputId": "7856e0ba-b39c-44dd-84c8-6643cce2792c"
      },
      "source": [
        "var1 = 'Roshani'\n",
        "var2 = \"mallav\"\n",
        "#1.accessing value\n",
        "print (\"var1[0]: \", var1[0])\n",
        "print (\"var2[1:5]: \", var2[1:5])\n",
        "#2.Upadating string\n",
        "print(\"Updated String :- \", var1[:6] + 'Python')\n",
        "#3 print lenght\n",
        "print(len(var1))\n",
        "#4\n",
        "print(var2.strip()) \n",
        "#5\n",
        "print(var1.lower())\n",
        "#6\n",
        "print(var1.replace(\"S\", \"K\"))"
      ],
      "execution_count": 11,
      "outputs": [
        {
          "output_type": "stream",
          "text": [
            "var1[0]:  R\n",
            "var2[1:5]:  alla\n",
            "Updated String :-  RoshanPython\n",
            "7\n",
            "mallav\n",
            "roshani\n",
            "Roshani\n"
          ],
          "name": "stdout"
        }
      ]
    }
  ]
}