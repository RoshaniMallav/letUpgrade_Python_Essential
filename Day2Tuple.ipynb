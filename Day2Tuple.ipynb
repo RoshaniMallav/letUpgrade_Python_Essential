{
  "nbformat": 4,
  "nbformat_minor": 0,
  "metadata": {
    "colab": {
      "name": "Day2Tuple.ipynb",
      "provenance": [],
      "authorship_tag": "ABX9TyMAdpBEFNRak67A+Iy19+O0",
      "include_colab_link": true
    },
    "kernelspec": {
      "name": "python3",
      "display_name": "Python 3"
    }
  },
  "cells": [
    {
      "cell_type": "markdown",
      "metadata": {
        "id": "view-in-github",
        "colab_type": "text"
      },
      "source": [
        "<a href=\"https://colab.research.google.com/github/RoshaniMallav/letUpgrade_Python_Essential/blob/master/Day2Tuple.ipynb\" target=\"_parent\"><img src=\"https://colab.research.google.com/assets/colab-badge.svg\" alt=\"Open In Colab\"/></a>"
      ]
    },
    {
      "cell_type": "code",
      "metadata": {
        "id": "CaWUZ7c38Coe",
        "colab_type": "code",
        "colab": {
          "base_uri": "https://localhost:8080/",
          "height": 204
        },
        "outputId": "ca167a01-e5da-4281-cb47-d4bd19a257bf"
      },
      "source": [
        "tpl = (\"apple\", \"banana\", \"cherry\")\n",
        "print(tpl)\n",
        "#1. \n",
        "print(tpl[-1])\n",
        "print(tpl[2:5])\n",
        "#2 convert tuple into list\n",
        "y = list(tpl)\n",
        "y[1] = \"kiwi\"\n",
        "tpl= tuple(y)\n",
        "\n",
        "print(tpl)\n",
        "#3 loop\n",
        "for x in tpl:\n",
        "  print(x)\n",
        "  #4.tiple lenght\n",
        "  print(len(thistuple))\n",
        "  #5.join two tuple\n",
        "  tuple2 = (1, 2, 3)\n",
        "\n",
        "tuple3 = tpl + tuple2\n",
        "print(tuple3)\n",
        "  \n",
        "\n",
        "\n"
      ],
      "execution_count": 13,
      "outputs": [
        {
          "output_type": "stream",
          "text": [
            "('apple', 'banana', 'cherry')\n",
            "cherry\n",
            "('cherry',)\n",
            "('apple', 'kiwi', 'cherry')\n",
            "apple\n",
            "3\n",
            "kiwi\n",
            "3\n",
            "cherry\n",
            "3\n",
            "('apple', 'kiwi', 'cherry', 1, 2, 3)\n"
          ],
          "name": "stdout"
        }
      ]
    }
  ]
}