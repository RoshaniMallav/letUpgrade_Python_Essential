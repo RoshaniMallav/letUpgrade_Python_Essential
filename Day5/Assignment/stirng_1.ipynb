{
  "nbformat": 4,
  "nbformat_minor": 0,
  "metadata": {
    "colab": {
      "name": "stirng_1.ipynb",
      "provenance": []
    },
    "kernelspec": {
      "name": "python3",
      "display_name": "Python 3"
    }
  },
  "cells": [
    {
      "cell_type": "code",
      "metadata": {
        "id": "DP59ptAB55bP",
        "colab_type": "code",
        "colab": {
          "base_uri": "https://localhost:8080/",
          "height": 68
        },
        "outputId": "28451cc2-8d89-465f-8d9f-80d9ff48a043"
      },
      "source": [
        "test_list = [1,5,6,4,1,2,3,5] \n",
        "sub_list = [1,1,5] \n",
        "  \n",
        "print (\"Original list : \" + str(test_list)) \n",
        "print (\"Original sub list : \" + str(sub_list)) \n",
        "   \n",
        "flag = 0\n",
        "if(all(x in test_list for x in sub_list)): \n",
        "    flag = 1\n",
        "    \n",
        "if (flag) : \n",
        "    print (\"It's a match.\") \n",
        "else : \n",
        "    print (\"It's gone.\") "
      ],
      "execution_count": 10,
      "outputs": [
        {
          "output_type": "stream",
          "text": [
            "Original list : [1, 5, 6, 4, 1, 2, 3, 5]\n",
            "Original sub list : [1, 1, 5]\n",
            "It's a match.\n"
          ],
          "name": "stdout"
        }
      ]
    }
  ]
}