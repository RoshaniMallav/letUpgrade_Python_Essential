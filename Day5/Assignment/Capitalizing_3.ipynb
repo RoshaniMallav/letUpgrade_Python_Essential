{
  "nbformat": 4,
  "nbformat_minor": 0,
  "metadata": {
    "colab": {
      "name": "Capitalizing3.ipynb",
      "provenance": []
    },
    "kernelspec": {
      "name": "python3",
      "display_name": "Python 3"
    }
  },
  "cells": [
    {
      "cell_type": "code",
      "metadata": {
        "id": "VVcy2cnD7ZH4",
        "colab_type": "code",
        "colab": {}
      },
      "source": [
        "lst=[\"hey this is sai\",\"i am in mumbai,....\"]"
      ],
      "execution_count": 1,
      "outputs": []
    },
    {
      "cell_type": "code",
      "metadata": {
        "id": "4Z3Vm9olvcyS",
        "colab_type": "code",
        "colab": {
          "base_uri": "https://localhost:8080/",
          "height": 34
        },
        "outputId": "f009e197-3d16-4ac5-db3b-7ad0916d48ce"
      },
      "source": [
        "print(lst)"
      ],
      "execution_count": 2,
      "outputs": [
        {
          "output_type": "stream",
          "text": [
            "['hey this is sai', 'i am in mumbai,....']\n"
          ],
          "name": "stdout"
        }
      ]
    },
    {
      "cell_type": "code",
      "metadata": {
        "id": "FtC6RKo6vnFB",
        "colab_type": "code",
        "colab": {
          "base_uri": "https://localhost:8080/",
          "height": 34
        },
        "outputId": "ccd86b81-b33d-477e-c080-843cc8fc1d6a"
      },
      "source": [
        "lst_new=map(lambda x: x.title(),lst)\n",
        "\n",
        "list(lst_new)\n"
      ],
      "execution_count": 3,
      "outputs": [
        {
          "output_type": "execute_result",
          "data": {
            "text/plain": [
              "['Hey This Is Sai', 'I Am In Mumbai,....']"
            ]
          },
          "metadata": {
            "tags": []
          },
          "execution_count": 3
        }
      ]
    }
  ]
}