{
  "nbformat": 4,
  "nbformat_minor": 0,
  "metadata": {
    "colab": {
      "name": "Decorator_1.ipynb",
      "provenance": []
    },
    "kernelspec": {
      "name": "python3",
      "display_name": "Python 3"
    }
  },
  "cells": [
    {
      "cell_type": "code",
      "metadata": {
        "id": "kxcj3_CAx_Z9",
        "colab_type": "code",
        "colab": {}
      },
      "source": [
        "def Fibbo(calculate):\n",
        "  \n",
        "\n",
        "  def wrap_fun():\n",
        "    a = int (input(\"Please enter number \"))\n",
        "    calculate(a)\n",
        "  return wrap_fun\n"
      ],
      "execution_count": 4,
      "outputs": []
    },
    {
      "cell_type": "code",
      "metadata": {
        "id": "RE-m5aX-yC4M",
        "colab_type": "code",
        "colab": {}
      },
      "source": [
        "@Fibbo\n",
        "def Fibbonacci(b):\n",
        "\n",
        "    n1, n2 = 0, 1\n",
        "    count = 0\n",
        "\n",
        "\n",
        "    if b <= 0:\n",
        "        print(\"Please enter a positive integer\")\n",
        "    elif b == 1:\n",
        "        print(\"Fibonacci sequence upto\",b,\":\")\n",
        "        print(n1)\n",
        "    else:\n",
        "        print(\"Fibonacci sequence:\")\n",
        "        while count < b:\n",
        "            print(n1)\n",
        "            nth = n1 + n2\n",
        "       \n",
        "            n1 = n2\n",
        "            n2 = nth\n",
        "            count += 1\n"
      ],
      "execution_count": 5,
      "outputs": []
    },
    {
      "cell_type": "code",
      "metadata": {
        "id": "i02soyVkyH8e",
        "colab_type": "code",
        "colab": {
          "base_uri": "https://localhost:8080/",
          "height": 204
        },
        "outputId": "4b630e29-3cb2-47b9-d506-471424b3e494"
      },
      "source": [
        "Fibbonacci()"
      ],
      "execution_count": 6,
      "outputs": [
        {
          "output_type": "stream",
          "text": [
            "Please enter number 9\n",
            "Fibonacci sequence:\n",
            "0\n",
            "1\n",
            "1\n",
            "2\n",
            "3\n",
            "5\n",
            "8\n",
            "13\n",
            "21\n"
          ],
          "name": "stdout"
        }
      ]
    }
  ]
}